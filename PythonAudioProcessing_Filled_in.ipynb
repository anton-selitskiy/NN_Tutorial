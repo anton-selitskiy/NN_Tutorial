{
  "cells": [
    {
      "cell_type": "markdown",
      "metadata": {
        "id": "-aad8e7bymDl"
      },
      "source": [
        "# Phython for Audio Processing"
      ]
    },
    {
      "cell_type": "markdown",
      "metadata": {
        "id": "4q5Iqk3FkSTh"
      },
      "source": [
        "## Installation\n",
        "**On-line:**\n",
        "\n",
        "The easiest way is to use virtual machines on [Google Colab.](http://colab.research.google.com/)\n",
        "\n",
        "**On your machine:**\n",
        "\n",
        "*The simplest* way is to set-up [Anaconda](https://www.anaconda.com/products/distribution) and add required packages.\n",
        "\n",
        "\n",
        "We will need [PyTorch,](https://pytorch.org/) if you have a CUDA GPU, choose the option with CUDA.\n",
        "\n",
        "*More complicated* way is to download [Python 3](https://www.python.org/downloads/) (on macOS, Python 3 is preinstalled) and install missing packages, including [PyTorch,](https://pytorch.org/)  [Jupyter,](https://jupyter.org/install) and [IPython.](https://ipython.org/install.html)\n",
        "\n",
        "Note: If you use Anaconda, install packages with “conda install”, if you don’t have Conda, install with “pip3 install”\n",
        "\n",
        "[VScode](https://code.visualstudio.com/download) is a convenient IDE. Here is a [video by Chris State](https://youtu.be/veJvQ88ULOM) that explains how one connects the Python to it. Just because it has been changed a little, don’t insert path in a .json file but use *Extension* $\\longrightarrow$ *Python* $\\longrightarrow$ *Default Interpreter Path* instead."
      ]
    },
    {
      "cell_type": "markdown",
      "metadata": {
        "id": "RlzqrKVa2nyf"
      },
      "source": [
        "Different tools for deep learning: TensorFlow2, PyTorch, JAX \n",
        "\n",
        "Usage of !, %, if ```__name__ == \"__main__\":```\n",
        "\n",
        "exclamation mark ! executes commands from the underlying operating system\n",
        "\n",
        "% affects the process associated with the notebook\n",
        "\n",
        "```\"__main__\":``` is not meeded in Python3, it is used now to separate functions from the code to import them"
      ]
    },
    {
      "cell_type": "code",
      "source": [
        "!pwd\n",
        "#!pip install ipywebrtc "
      ],
      "metadata": {
        "colab": {
          "base_uri": "https://localhost:8080/"
        },
        "id": "x2msRIYChM0a",
        "outputId": "f192aad4-5628-483a-e732-0c4df9ffb690"
      },
      "execution_count": null,
      "outputs": [
        {
          "output_type": "stream",
          "name": "stdout",
          "text": [
            "/content\n"
          ]
        }
      ]
    },
    {
      "cell_type": "code",
      "source": [
        "%cd .."
      ],
      "metadata": {
        "id": "Hg1FQ2ykmGw6"
      },
      "execution_count": null,
      "outputs": []
    },
    {
      "cell_type": "code",
      "execution_count": 3,
      "metadata": {
        "id": "WH7GasKFykLz"
      },
      "outputs": [],
      "source": [
        "import torch\n",
        "import torchaudio\n",
        "import matplotlib.pyplot as plt\n",
        "import numpy as np"
      ]
    },
    {
      "cell_type": "code",
      "source": [
        "from IPython.display import Audio"
      ],
      "metadata": {
        "id": "A6tPvY887eQv"
      },
      "execution_count": null,
      "outputs": []
    },
    {
      "cell_type": "code",
      "source": [
        "from MySTFT import *"
      ],
      "metadata": {
        "id": "2dRiFMqCrgd-"
      },
      "execution_count": null,
      "outputs": []
    },
    {
      "cell_type": "markdown",
      "source": [
        "####Usefull Shortcuts\n",
        "\n",
        "Shift+Enter - run cell\n",
        "\n",
        "Ctrl+/ - comment lines\n",
        "\n",
        "Ctrl+] - indent lines"
      ],
      "metadata": {
        "id": "MOQRNFGKjbDx"
      }
    },
    {
      "cell_type": "markdown",
      "source": [
        "##Tensors in PyTorch https://pytorch.org/docs/stable/tensors.html"
      ],
      "metadata": {
        "id": "HIVLA-XcuO_6"
      }
    },
    {
      "cell_type": "code",
      "source": [
        "x = torch.Tensor([1,2,3,4])"
      ],
      "metadata": {
        "id": "IbBV2FMNuPQw"
      },
      "execution_count": 4,
      "outputs": []
    },
    {
      "cell_type": "code",
      "source": [
        "x \n",
        "#print(x)"
      ],
      "metadata": {
        "colab": {
          "base_uri": "https://localhost:8080/"
        },
        "id": "3dUq6DDX3cnf",
        "outputId": "ce9dfc69-2c98-48b6-a3f6-63f5fedaaa2e"
      },
      "execution_count": null,
      "outputs": [
        {
          "output_type": "execute_result",
          "data": {
            "text/plain": [
              "tensor([1., 2., 3., 4.])"
            ]
          },
          "metadata": {},
          "execution_count": 11
        }
      ]
    },
    {
      "cell_type": "code",
      "source": [],
      "metadata": {
        "id": "rGgQEquUusUx"
      },
      "execution_count": null,
      "outputs": []
    },
    {
      "cell_type": "markdown",
      "source": [
        "###Shape"
      ],
      "metadata": {
        "id": "sc_Ywk4grzpp"
      }
    },
    {
      "cell_type": "markdown",
      "source": [
        "Q1 reshape"
      ],
      "metadata": {
        "id": "zhsSXab_wym7"
      }
    },
    {
      "cell_type": "code",
      "source": [
        "x.shape\n",
        "#x.size()"
      ],
      "metadata": {
        "colab": {
          "base_uri": "https://localhost:8080/"
        },
        "id": "n1GPTdVlDEW9",
        "outputId": "932293ee-5584-4e04-a929-de23df5fe497"
      },
      "execution_count": 5,
      "outputs": [
        {
          "output_type": "execute_result",
          "data": {
            "text/plain": [
              "torch.Size([4])"
            ]
          },
          "metadata": {},
          "execution_count": 5
        }
      ]
    },
    {
      "cell_type": "code",
      "source": [
        "x.view(2,2)\n",
        "#x.reshape(2,2)"
      ],
      "metadata": {
        "id": "j7ndjm7xwnx6",
        "colab": {
          "base_uri": "https://localhost:8080/"
        },
        "outputId": "08a9717f-f817-4010-9628-63f4ffc7df3c"
      },
      "execution_count": 6,
      "outputs": [
        {
          "output_type": "execute_result",
          "data": {
            "text/plain": [
              "tensor([[1., 2.],\n",
              "        [3., 4.]])"
            ]
          },
          "metadata": {},
          "execution_count": 6
        }
      ]
    },
    {
      "cell_type": "markdown",
      "source": [
        "Q2 inplace operations"
      ],
      "metadata": {
        "id": "OhTeJ1sawqWy"
      }
    },
    {
      "cell_type": "code",
      "source": [
        "x.pow(2)"
      ],
      "metadata": {
        "id": "a0d9qRchwpfF",
        "colab": {
          "base_uri": "https://localhost:8080/"
        },
        "outputId": "0c16789f-7b86-4b43-96f0-eab926890afb"
      },
      "execution_count": 7,
      "outputs": [
        {
          "output_type": "execute_result",
          "data": {
            "text/plain": [
              "tensor([ 1.,  4.,  9., 16.])"
            ]
          },
          "metadata": {},
          "execution_count": 7
        }
      ]
    },
    {
      "cell_type": "code",
      "source": [
        "x"
      ],
      "metadata": {
        "colab": {
          "base_uri": "https://localhost:8080/"
        },
        "id": "iHoUDJwkJv_r",
        "outputId": "55ff3884-79ce-4d1f-a296-5adde13f5743"
      },
      "execution_count": 8,
      "outputs": [
        {
          "output_type": "execute_result",
          "data": {
            "text/plain": [
              "tensor([1., 2., 3., 4.])"
            ]
          },
          "metadata": {},
          "execution_count": 8
        }
      ]
    },
    {
      "cell_type": "code",
      "source": [
        "x.pow_(2)\n",
        "x"
      ],
      "metadata": {
        "colab": {
          "base_uri": "https://localhost:8080/"
        },
        "id": "T1eQAUdcmkfu",
        "outputId": "2c4c3a51-912b-48b6-bd99-084cd799ea20"
      },
      "execution_count": 9,
      "outputs": [
        {
          "output_type": "execute_result",
          "data": {
            "text/plain": [
              "tensor([ 1.,  4.,  9., 16.])"
            ]
          },
          "metadata": {},
          "execution_count": 9
        }
      ]
    },
    {
      "cell_type": "markdown",
      "source": [
        "###Broadcasting"
      ],
      "metadata": {
        "id": "xCW9tLhVr2Yw"
      }
    },
    {
      "cell_type": "code",
      "source": [
        "a=torch.Tensor([1,2,3])\n",
        "a=a.view(-1,1)\n",
        "a"
      ],
      "metadata": {
        "id": "s3flBALfeifb",
        "colab": {
          "base_uri": "https://localhost:8080/"
        },
        "outputId": "392aa659-8bef-4c75-ed67-a45b5c45a2ae"
      },
      "execution_count": null,
      "outputs": [
        {
          "output_type": "execute_result",
          "data": {
            "text/plain": [
              "tensor([[1.],\n",
              "        [2.],\n",
              "        [3.]])"
            ]
          },
          "metadata": {},
          "execution_count": 16
        }
      ]
    },
    {
      "cell_type": "code",
      "source": [
        "b=torch.rand(3,4)\n",
        "b"
      ],
      "metadata": {
        "id": "MODvHNxKeiij",
        "colab": {
          "base_uri": "https://localhost:8080/"
        },
        "outputId": "ca4e2c1b-5b0a-4d71-80aa-9a5b3a19a329"
      },
      "execution_count": null,
      "outputs": [
        {
          "output_type": "execute_result",
          "data": {
            "text/plain": [
              "tensor([[0.4872, 0.7175, 0.7110, 0.5353],\n",
              "        [0.6491, 0.4849, 0.2766, 0.3721],\n",
              "        [0.8324, 0.3071, 0.4025, 0.0094]])"
            ]
          },
          "metadata": {},
          "execution_count": 17
        }
      ]
    },
    {
      "cell_type": "code",
      "source": [
        "a*b"
      ],
      "metadata": {
        "id": "unJHG5g1eila",
        "colab": {
          "base_uri": "https://localhost:8080/"
        },
        "outputId": "44dbedf4-a4a7-487c-a7ae-f81162a4d6f8"
      },
      "execution_count": null,
      "outputs": [
        {
          "output_type": "execute_result",
          "data": {
            "text/plain": [
              "tensor([[0.4872, 0.7175, 0.7110, 0.5353],\n",
              "        [1.2981, 0.9698, 0.5531, 0.7441],\n",
              "        [2.4971, 0.9213, 1.2074, 0.0282]])"
            ]
          },
          "metadata": {},
          "execution_count": 18
        }
      ]
    },
    {
      "cell_type": "code",
      "source": [
        "x*b"
      ],
      "metadata": {
        "colab": {
          "base_uri": "https://localhost:8080/"
        },
        "id": "FiGDfmSKqcXb",
        "outputId": "3a55913c-a9aa-462a-be48-1c68da28f98a"
      },
      "execution_count": null,
      "outputs": [
        {
          "output_type": "execute_result",
          "data": {
            "text/plain": [
              "tensor([[0.4872, 2.8699, 6.3990, 8.5654],\n",
              "        [0.6491, 1.9397, 2.4891, 5.9528],\n",
              "        [0.8324, 1.2284, 3.6223, 0.1502]])"
            ]
          },
          "metadata": {},
          "execution_count": 30
        }
      ]
    },
    {
      "cell_type": "markdown",
      "source": [
        "###Matrix Multiplication"
      ],
      "metadata": {
        "id": "LDJQ_0Khr_sl"
      }
    },
    {
      "cell_type": "code",
      "source": [
        "torch.matmul(b,x)"
      ],
      "metadata": {
        "colab": {
          "base_uri": "https://localhost:8080/"
        },
        "id": "SSEDcn6fXVt8",
        "outputId": "ef175d85-e27a-4402-cb17-769cd67e3ce4"
      },
      "execution_count": null,
      "outputs": [
        {
          "output_type": "execute_result",
          "data": {
            "text/plain": [
              "tensor([18.3215, 11.0307,  5.8333])"
            ]
          },
          "metadata": {},
          "execution_count": 23
        }
      ]
    },
    {
      "cell_type": "code",
      "source": [
        "b.matmul(x)"
      ],
      "metadata": {
        "colab": {
          "base_uri": "https://localhost:8080/"
        },
        "id": "3g9edlDXXRfT",
        "outputId": "62fef9dc-ea5e-400f-ffbe-ee4f7f2fc29e"
      },
      "execution_count": null,
      "outputs": [
        {
          "output_type": "execute_result",
          "data": {
            "text/plain": [
              "tensor([18.3215, 11.0307,  5.8333])"
            ]
          },
          "metadata": {},
          "execution_count": 24
        }
      ]
    },
    {
      "cell_type": "code",
      "source": [
        "b@x"
      ],
      "metadata": {
        "colab": {
          "base_uri": "https://localhost:8080/"
        },
        "id": "LpPweOdxv0lh",
        "outputId": "0a724b70-307a-4dac-92a2-461d96f21ac5"
      },
      "execution_count": null,
      "outputs": [
        {
          "output_type": "execute_result",
          "data": {
            "text/plain": [
              "tensor([18.3215, 11.0307,  5.8333])"
            ]
          },
          "metadata": {},
          "execution_count": 25
        }
      ]
    },
    {
      "cell_type": "markdown",
      "source": [
        "###Data Type https://pytorch.org/docs/stable/tensors.html"
      ],
      "metadata": {
        "id": "JRMYqSusv0tq"
      }
    },
    {
      "cell_type": "code",
      "source": [
        "x.dtype"
      ],
      "metadata": {
        "colab": {
          "base_uri": "https://localhost:8080/"
        },
        "id": "vpj03s-Lv8Vq",
        "outputId": "d1d2840d-6920-43d9-a596-7bfcf613fa88"
      },
      "execution_count": null,
      "outputs": [
        {
          "output_type": "execute_result",
          "data": {
            "text/plain": [
              "torch.float32"
            ]
          },
          "metadata": {},
          "execution_count": 26
        }
      ]
    },
    {
      "cell_type": "code",
      "source": [
        "x.type(torch.long)"
      ],
      "metadata": {
        "colab": {
          "base_uri": "https://localhost:8080/"
        },
        "id": "YBwkYgDk6HfU",
        "outputId": "8029b572-09ae-4c97-c958-c9ff105a324e"
      },
      "execution_count": null,
      "outputs": [
        {
          "output_type": "execute_result",
          "data": {
            "text/plain": [
              "tensor([ 1,  4,  9, 16])"
            ]
          },
          "metadata": {},
          "execution_count": 27
        }
      ]
    },
    {
      "cell_type": "code",
      "source": [
        "x.to(torch.long)"
      ],
      "metadata": {
        "id": "zfmlgWJf6TY_",
        "colab": {
          "base_uri": "https://localhost:8080/"
        },
        "outputId": "a6a8360e-624e-45d3-8b18-ac86863d1cae"
      },
      "execution_count": null,
      "outputs": [
        {
          "output_type": "execute_result",
          "data": {
            "text/plain": [
              "tensor([ 1,  4,  9, 16])"
            ]
          },
          "metadata": {},
          "execution_count": 28
        }
      ]
    },
    {
      "cell_type": "code",
      "source": [
        "x"
      ],
      "metadata": {
        "colab": {
          "base_uri": "https://localhost:8080/"
        },
        "id": "33XHMaDg1Hzj",
        "outputId": "28e9f908-67b4-464d-b261-c489ba6e8f8e"
      },
      "execution_count": null,
      "outputs": [
        {
          "output_type": "execute_result",
          "data": {
            "text/plain": [
              "tensor([ 1.,  4.,  9., 16.])"
            ]
          },
          "metadata": {},
          "execution_count": 29
        }
      ]
    },
    {
      "cell_type": "markdown",
      "source": [
        "###Concatanating"
      ],
      "metadata": {
        "id": "PzWHmqXaIOdQ"
      }
    },
    {
      "cell_type": "markdown",
      "source": [
        "Q4 How do we do STFT?"
      ],
      "metadata": {
        "id": "Y338Jj1xKA1_"
      }
    },
    {
      "cell_type": "code",
      "source": [
        "#[1,2,3,4,5,6,7,8,9,10,11...]\n",
        "h1 = torch.Tensor([1,2,3,4,5])\n",
        "h2 = torch.Tensor([3,4,5,6,7])\n",
        "#..."
      ],
      "metadata": {
        "id": "SjKiPVBrwWkj"
      },
      "execution_count": 10,
      "outputs": []
    },
    {
      "cell_type": "code",
      "source": [
        "h1.shape"
      ],
      "metadata": {
        "colab": {
          "base_uri": "https://localhost:8080/"
        },
        "id": "9yZHbZk0kc42",
        "outputId": "5ed3037f-e04b-4883-a3ee-1280ef1c2897"
      },
      "execution_count": 11,
      "outputs": [
        {
          "output_type": "execute_result",
          "data": {
            "text/plain": [
              "torch.Size([5])"
            ]
          },
          "metadata": {},
          "execution_count": 11
        }
      ]
    },
    {
      "cell_type": "markdown",
      "source": [
        "We can apply window to each h1 and h2 before stacking or after"
      ],
      "metadata": {
        "id": "Ycc7QuJID8Ps"
      }
    },
    {
      "cell_type": "code",
      "source": [
        "h = torch.stack([h1,h2]).T\n",
        "h"
      ],
      "metadata": {
        "colab": {
          "base_uri": "https://localhost:8080/"
        },
        "id": "m9bzLisTkRTY",
        "outputId": "08b28b55-340d-4d08-b92c-b31524706832"
      },
      "execution_count": 12,
      "outputs": [
        {
          "output_type": "execute_result",
          "data": {
            "text/plain": [
              "tensor([[1., 3.],\n",
              "        [2., 4.],\n",
              "        [3., 5.],\n",
              "        [4., 6.],\n",
              "        [5., 7.]])"
            ]
          },
          "metadata": {},
          "execution_count": 12
        }
      ]
    },
    {
      "cell_type": "markdown",
      "source": [
        "Zero padding:"
      ],
      "metadata": {
        "id": "dqb-y7H9EaIe"
      }
    },
    {
      "cell_type": "code",
      "execution_count": 14,
      "metadata": {
        "id": "siKafgp2iGu2"
      },
      "outputs": [],
      "source": [
        "import torch.nn as nn"
      ]
    },
    {
      "cell_type": "code",
      "source": [
        "nn.ConstantPad1d((0,2*len(h1)),0)(h1)"
      ],
      "metadata": {
        "colab": {
          "base_uri": "https://localhost:8080/"
        },
        "id": "0457wTmmO-rE",
        "outputId": "7cdb4754-dd25-4e94-c609-8a96fa5c654c"
      },
      "execution_count": 15,
      "outputs": [
        {
          "output_type": "execute_result",
          "data": {
            "text/plain": [
              "tensor([1., 2., 3., 4., 5., 0., 0., 0., 0., 0., 0., 0., 0., 0., 0.])"
            ]
          },
          "metadata": {},
          "execution_count": 15
        }
      ]
    },
    {
      "cell_type": "code",
      "source": [
        "nn.functional.pad(torch.stack([h1,h2]).T, (0,0,0,2*len(h1)), \"constant\", 0)"
      ],
      "metadata": {
        "colab": {
          "base_uri": "https://localhost:8080/"
        },
        "id": "AWv4h5dhrtdL",
        "outputId": "63734760-884e-4c98-db2e-eebfca414beb"
      },
      "execution_count": 16,
      "outputs": [
        {
          "output_type": "execute_result",
          "data": {
            "text/plain": [
              "tensor([[1., 3.],\n",
              "        [2., 4.],\n",
              "        [3., 5.],\n",
              "        [4., 6.],\n",
              "        [5., 7.],\n",
              "        [0., 0.],\n",
              "        [0., 0.],\n",
              "        [0., 0.],\n",
              "        [0., 0.],\n",
              "        [0., 0.],\n",
              "        [0., 0.],\n",
              "        [0., 0.],\n",
              "        [0., 0.],\n",
              "        [0., 0.],\n",
              "        [0., 0.]])"
            ]
          },
          "metadata": {},
          "execution_count": 16
        }
      ]
    },
    {
      "cell_type": "markdown",
      "source": [
        "##TorchAudio [tutorial](https://pytorch.org/tutorials/beginner/audio_preprocessing_tutorial.html)"
      ],
      "metadata": {
        "id": "fVUxn_BqwB3g"
      }
    },
    {
      "cell_type": "markdown",
      "source": [
        "###Dounload and play\n",
        "mono 'PinkPanther30.wav' from https://www2.cs.uic.edu/~i101/SoundFiles/\n",
        "\n",
        "stereo 'prelude_cmaj_10s.wav' from https://ccrma.stanford.edu/workshops/mir2014/audio/"
      ],
      "metadata": {
        "id": "wlxOj29mmB6j"
      }
    },
    {
      "cell_type": "code",
      "execution_count": 20,
      "metadata": {
        "id": "sFeQgdUY1ayO"
      },
      "outputs": [],
      "source": [
        "path =  'PinkPanther30.wav' #'StarWars3.wav' #'Schumann.wav'#/Users/airlab/Downloads/courante.wav"
      ]
    },
    {
      "cell_type": "code",
      "source": [
        "wav, sr = torchaudio.load(path)"
      ],
      "metadata": {
        "id": "14Pby86awcZl"
      },
      "execution_count": 21,
      "outputs": []
    },
    {
      "cell_type": "code",
      "source": [
        "wav.shape"
      ],
      "metadata": {
        "colab": {
          "base_uri": "https://localhost:8080/"
        },
        "id": "GOh66or2C7VR",
        "outputId": "64e00f73-efd6-40bc-bca5-6d380f52b676"
      },
      "execution_count": 22,
      "outputs": [
        {
          "output_type": "execute_result",
          "data": {
            "text/plain": [
              "torch.Size([1, 661500])"
            ]
          },
          "metadata": {},
          "execution_count": 22
        }
      ]
    },
    {
      "cell_type": "code",
      "source": [
        "Audio(data=wav, rate=sr)"
      ],
      "metadata": {
        "id": "sDPAymzPaoZH"
      },
      "execution_count": null,
      "outputs": []
    },
    {
      "cell_type": "markdown",
      "source": [
        "###Visualize"
      ],
      "metadata": {
        "id": "Fo79EpXzmIWV"
      }
    },
    {
      "cell_type": "code",
      "source": [
        "plt.plot(wav[0])\n",
        "#plt.plot(wav[0][-100:]) "
      ],
      "metadata": {
        "id": "pUjMdgd39YyW"
      },
      "execution_count": null,
      "outputs": []
    },
    {
      "cell_type": "markdown",
      "source": [
        "Q5 To set the time correctly"
      ],
      "metadata": {
        "id": "WJwvaet9ai6C"
      }
    },
    {
      "cell_type": "code",
      "source": [
        "t = np.arange(wav.shape[-1])/sr"
      ],
      "metadata": {
        "id": "iHANQm_fah85"
      },
      "execution_count": null,
      "outputs": []
    },
    {
      "cell_type": "code",
      "source": [
        "#plt.plot(t,wav[0])"
      ],
      "metadata": {
        "id": "bPqbo1hT7lOM"
      },
      "execution_count": null,
      "outputs": []
    },
    {
      "cell_type": "code",
      "source": [],
      "metadata": {
        "id": "nBDEokswnO_v"
      },
      "execution_count": null,
      "outputs": []
    },
    {
      "cell_type": "code",
      "source": [
        "import librosa, librosa.display"
      ],
      "metadata": {
        "id": "uEz3dSR39ZjW"
      },
      "execution_count": 18,
      "outputs": []
    },
    {
      "cell_type": "code",
      "source": [
        "librosa.display.waveshow(wav[0].numpy(), sr)\n",
        "#librosa.display.waveshow(wav[0].numpy()[-100:], sr)"
      ],
      "metadata": {
        "id": "8EN86CK_9btl",
        "colab": {
          "base_uri": "https://localhost:8080/",
          "height": 298
        },
        "outputId": "286bfb16-4561-4a29-a283-4bd3f49959f3"
      },
      "execution_count": 23,
      "outputs": [
        {
          "output_type": "execute_result",
          "data": {
            "text/plain": [
              "<librosa.display.AdaptiveWaveplot at 0x7fd355667410>"
            ]
          },
          "metadata": {},
          "execution_count": 23
        },
        {
          "output_type": "display_data",
          "data": {
            "text/plain": [
              "<Figure size 432x288 with 1 Axes>"
            ],
            "image/png": "[encoded data removed]"
          },
          "metadata": {
            "needs_background": "light"
          }
        }
      ]
    },
    {
      "cell_type": "markdown",
      "source": [
        "Saving audio to file"
      ],
      "metadata": {
        "id": "jkjhro55nWta"
      }
    },
    {
      "cell_type": "code",
      "source": [
        "torchaudio.save('new_wav.wav', wav, sr)"
      ],
      "metadata": {
        "id": "5uUpXJcHPsad"
      },
      "execution_count": null,
      "outputs": []
    },
    {
      "cell_type": "markdown",
      "source": [
        "###Resample and other operations\n",
        "\n",
        "\n",
        "https://pytorch.org/audio/stable/functional.html\n",
        " \n",
        "https://pytorch.org/audio/stable/transforms.html"
      ],
      "metadata": {
        "id": "6O8dXWZ-mbuu"
      }
    },
    {
      "cell_type": "code",
      "source": [
        "print(torchaudio.info(path))"
      ],
      "metadata": {
        "colab": {
          "base_uri": "https://localhost:8080/"
        },
        "id": "jjbXf1WV68SU",
        "outputId": "99fb41d4-a5c9-485d-95db-b4b44ac81909"
      },
      "execution_count": null,
      "outputs": [
        {
          "output_type": "stream",
          "name": "stdout",
          "text": [
            "AudioMetaData(sample_rate=44100, num_frames=441000, num_channels=2, bits_per_sample=16, encoding=PCM_S)\n"
          ]
        }
      ]
    },
    {
      "cell_type": "markdown",
      "source": [
        "###Window\n",
        "By default it's periodic "
      ],
      "metadata": {
        "id": "9mM5s1M0nypx"
      }
    },
    {
      "cell_type": "code",
      "source": [
        "w = torch.hann_window(64,periodic=False)"
      ],
      "metadata": {
        "id": "-t1xnqDYqITY"
      },
      "execution_count": null,
      "outputs": []
    },
    {
      "cell_type": "code",
      "source": [
        "w_p = torch.hann_window(64)"
      ],
      "metadata": {
        "id": "FtGCaPYHYBJV"
      },
      "execution_count": null,
      "outputs": []
    },
    {
      "cell_type": "code",
      "source": [
        "fig = plt.figure(figsize=(10,5))\n",
        "plt.plot(w)\n",
        "plt.plot(w_p)\n",
        "plt.legend(['Symmetric', 'Periodic'])\n",
        "font = {'family': 'serif',\n",
        "        'color':  'darkred',\n",
        "        'weight': 'normal',\n",
        "        'size': 16,\n",
        "        }\n",
        "plt.xlabel('time (samples)', fontdict=font)\n",
        "plt.ylabel('Amplitude', fontdict=font)\n",
        "plt.title('Hann Window', fontdict=font)\n",
        "#plt.savefig('window')\n",
        "#plt.close(fig)\n",
        "#plt.show() "
      ],
      "metadata": {
        "colab": {
          "base_uri": "https://localhost:8080/",
          "height": 379
        },
        "id": "NMxsoTQUXy8b",
        "outputId": "ad4d4056-f889-4716-b3af-306e78426e13"
      },
      "execution_count": null,
      "outputs": [
        {
          "output_type": "execute_result",
          "data": {
            "text/plain": [
              "Text(0.5, 1.0, 'Hann Window')"
            ]
          },
          "metadata": {},
          "execution_count": 34
        },
        {
          "output_type": "display_data",
          "data": {
            "text/plain": [
              "<Figure size 720x360 with 1 Axes>"
            ],
            "image/png": "[encoded data removed]"
          },
          "metadata": {
            "needs_background": "light"
          }
        }
      ]
    },
    {
      "cell_type": "markdown",
      "source": [
        "###Spectrogram"
      ],
      "metadata": {
        "id": "O8cb67nRmZjv"
      }
    },
    {
      "cell_type": "markdown",
      "source": [
        "Example a sinusoidal wave"
      ],
      "metadata": {
        "id": "pqKXHuP9Vo30"
      }
    },
    {
      "cell_type": "code",
      "source": [
        "Fs = 2000\n",
        "T=1\n",
        "Ts = 1/Fs\n",
        "n = T//Ts\n",
        "t = np.arange(n)*Ts\n",
        "y = np.sin(2*np.pi*t)"
      ],
      "metadata": {
        "id": "R84BSRfuVnlW"
      },
      "execution_count": 33,
      "outputs": []
    },
    {
      "cell_type": "code",
      "source": [
        "plt.plot(y)"
      ],
      "metadata": {
        "colab": {
          "base_uri": "https://localhost:8080/",
          "height": 284
        },
        "id": "TNctgGhgVn-Y",
        "outputId": "5f378eff-5757-4f76-dabf-57c85d6ffdb6"
      },
      "execution_count": 36,
      "outputs": [
        {
          "output_type": "execute_result",
          "data": {
            "text/plain": [
              "[<matplotlib.lines.Line2D at 0x7fd354d5c350>]"
            ]
          },
          "metadata": {},
          "execution_count": 36
        },
        {
          "output_type": "display_data",
          "data": {
            "text/plain": [
              "<Figure size 432x288 with 1 Axes>"
            ],
            "image/png": "[encoded data removed]"
          },
          "metadata": {
            "needs_background": "light"
          }
        }
      ]
    },
    {
      "cell_type": "code",
      "source": [
        "y_fft = torch.fft.fft(torch.Tensor(y))\n",
        "plt.plot(y_fft.abs()[:len(y_fft)//2+1]) #.log10()"
      ],
      "metadata": {
        "colab": {
          "base_uri": "https://localhost:8080/",
          "height": 284
        },
        "id": "aXCWJCfiWgAn",
        "outputId": "669027ce-2f07-4935-c582-e745b056fd26"
      },
      "execution_count": 37,
      "outputs": [
        {
          "output_type": "execute_result",
          "data": {
            "text/plain": [
              "[<matplotlib.lines.Line2D at 0x7fd3555c66d0>]"
            ]
          },
          "metadata": {},
          "execution_count": 37
        },
        {
          "output_type": "display_data",
          "data": {
            "text/plain": [
              "<Figure size 432x288 with 1 Axes>"
            ],
            "image/png": "[encoded data removed]"
          },
          "metadata": {
            "needs_background": "light"
          }
        }
      ]
    },
    {
      "cell_type": "code",
      "source": [
        "y_t = torch.Tensor(y)\n",
        "y_pad_fft = torch.fft.fft(nn.ConstantPad1d((0,3*len(y_t)),0)(y_t))\n",
        "plt.plot(y_pad_fft.abs().log10())\n",
        "# y_pad_fft_2 = torch.fft.fft(nn.ConstantPad1d((0,9*len(y_t)),0)(y_t))\n",
        "# plt.plot(y_pad_fft_2.abs().log10()[:200])\n",
        "# plt.legend(['1', '2'])"
      ],
      "metadata": {
        "id": "nfs7HVAGXZ4S"
      },
      "execution_count": 39,
      "outputs": []
    },
    {
      "cell_type": "code",
      "source": [],
      "metadata": {
        "id": "tvgZ-878Xz0E"
      },
      "execution_count": null,
      "outputs": []
    },
    {
      "cell_type": "code",
      "source": [
        "n_fft=512*2\n",
        "hop_length=256 #Usually 1/2 or 1/4 of the window length\n",
        "w =  torch.ones(n_fft) #torch.hann_window(n_fft) )"
      ],
      "metadata": {
        "id": "CN8c_IeEtdW0"
      },
      "execution_count": null,
      "outputs": []
    },
    {
      "cell_type": "code",
      "source": [
        "st = MySTFT(wav, sr, n_fft, hop_length, w, 0)"
      ],
      "metadata": {
        "id": "DK5Kr0aEq96G"
      },
      "execution_count": null,
      "outputs": []
    },
    {
      "cell_type": "code",
      "source": [
        "st.shape"
      ],
      "metadata": {
        "colab": {
          "base_uri": "https://localhost:8080/"
        },
        "id": "_cXAhRfeV9mE",
        "outputId": "91b78bb4-b35b-4f43-f8c3-9985e06680af"
      },
      "execution_count": null,
      "outputs": [
        {
          "output_type": "execute_result",
          "data": {
            "text/plain": [
              "torch.Size([513, 2580])"
            ]
          },
          "metadata": {},
          "execution_count": 68
        }
      ]
    },
    {
      "cell_type": "code",
      "source": [
        "#amplitude and phase\n",
        "#torch.allclose(st,st.abs()*torch.exp(1j*st.angle()))"
      ],
      "metadata": {
        "id": "yWbo0hOCTY8d"
      },
      "execution_count": null,
      "outputs": []
    },
    {
      "cell_type": "code",
      "source": [],
      "metadata": {
        "id": "dyRNwVBbQcd_"
      },
      "execution_count": null,
      "outputs": []
    },
    {
      "cell_type": "code",
      "source": [],
      "metadata": {
        "id": "vLinyYY6Rvq4"
      },
      "execution_count": null,
      "outputs": []
    },
    {
      "cell_type": "markdown",
      "source": [
        "####Torch STFT\n",
        "```torch.stft``` has hop_length = 1/4 of the window_length and if the window is not specified, it's a rectangular window https://pytorch.org/docs/stable/generated/torch.stft.html "
      ],
      "metadata": {
        "id": "wiUFep_DUxX5"
      }
    },
    {
      "cell_type": "code",
      "source": [
        "stf = torch.stft(wav[0], n_fft=n_fft, hop_length=hop_length, return_complex=True)  #, center=False window=w,"
      ],
      "metadata": {
        "id": "3QjTES6Fogme"
      },
      "execution_count": null,
      "outputs": []
    },
    {
      "cell_type": "code",
      "source": [
        "stf.shape"
      ],
      "metadata": {
        "colab": {
          "base_uri": "https://localhost:8080/"
        },
        "id": "0kBGS2f6WFvr",
        "outputId": "b3aa69a0-d1ae-4c6b-be1b-d7ce58339cc5"
      },
      "execution_count": null,
      "outputs": [
        {
          "output_type": "execute_result",
          "data": {
            "text/plain": [
              "torch.Size([513, 2584])"
            ]
          },
          "metadata": {},
          "execution_count": 73
        }
      ]
    },
    {
      "cell_type": "code",
      "source": [
        "torch.allclose(stf, st)"
      ],
      "metadata": {
        "colab": {
          "base_uri": "https://localhost:8080/",
          "height": 173
        },
        "id": "XY2tqvm5og3H",
        "outputId": "08fe6502-eeee-4102-eecd-5cfe84c7e7e2"
      },
      "execution_count": null,
      "outputs": [
        {
          "output_type": "error",
          "ename": "RuntimeError",
          "evalue": "ignored",
          "traceback": [
            "\u001b[0;31m---------------------------------------------------------------------------\u001b[0m",
            "\u001b[0;31mRuntimeError\u001b[0m                              Traceback (most recent call last)",
            "\u001b[0;32m<ipython-input-74-ef377d0c2fdd>\u001b[0m in \u001b[0;36m<module>\u001b[0;34m\u001b[0m\n\u001b[0;32m----> 1\u001b[0;31m \u001b[0mtorch\u001b[0m\u001b[0;34m.\u001b[0m\u001b[0mallclose\u001b[0m\u001b[0;34m(\u001b[0m\u001b[0mstf\u001b[0m\u001b[0;34m,\u001b[0m \u001b[0mst\u001b[0m\u001b[0;34m)\u001b[0m\u001b[0;34m\u001b[0m\u001b[0;34m\u001b[0m\u001b[0m\n\u001b[0m",
            "\u001b[0;31mRuntimeError\u001b[0m: The size of tensor a (2584) must match the size of tensor b (2580) at non-singleton dimension 1"
          ]
        }
      ]
    },
    {
      "cell_type": "code",
      "source": [
        "plt.figure(figsize=(25,10))\n",
        "plt.imshow(20*stf.squeeze().abs().log10(), origin='lower')"
      ],
      "metadata": {
        "id": "jv8675mNsuLh"
      },
      "execution_count": null,
      "outputs": []
    },
    {
      "cell_type": "markdown",
      "metadata": {
        "id": "htpQD1ZI3Bv0"
      },
      "source": [
        "https://pytorch.org/tutorials/beginner/audio_preprocessing_tutorial.html "
      ]
    },
    {
      "cell_type": "code",
      "execution_count": null,
      "metadata": {
        "id": "FUiwUtco1i_c"
      },
      "outputs": [],
      "source": [
        "Audio(data=wav, rate=sr)"
      ]
    },
    {
      "cell_type": "code",
      "source": [
        "plt.figure(figsize=(25,10))\n",
        "plt.imshow(librosa.power_to_db(stf.squeeze().abs(), amin=1e-10, top_db=None), origin='lower')  #, top_db=None\n",
        "plt.colorbar(format=\"%+2.f dB\")"
      ],
      "metadata": {
        "id": "oVYZXo1tfTe8"
      },
      "execution_count": null,
      "outputs": []
    },
    {
      "cell_type": "code",
      "source": [
        "plt.figure(figsize=(25,10))\n",
        "plt.imshow(20*torch.clip(stf.squeeze().abs(), min=1e-10).log10(), origin='lower')"
      ],
      "metadata": {
        "id": "-bufcGa4gJwT"
      },
      "execution_count": null,
      "outputs": []
    },
    {
      "cell_type": "code",
      "source": [
        "torch.allclose(torch.Tensor(librosa.power_to_db(stf.squeeze().abs(), amin=1e-10, top_db=None)), 10*torch.clip(stf.squeeze().abs(), min=1e-10).log10())"
      ],
      "metadata": {
        "colab": {
          "base_uri": "https://localhost:8080/"
        },
        "id": "4PWp2m7uzph2",
        "outputId": "6497d61e-e941-4381-cd16-04659c80aca1"
      },
      "execution_count": null,
      "outputs": [
        {
          "output_type": "execute_result",
          "data": {
            "text/plain": [
              "True"
            ]
          },
          "metadata": {},
          "execution_count": 81
        }
      ]
    },
    {
      "cell_type": "markdown",
      "source": [
        "####TorchAudio STFT\n",
        "torchaudio uses hop_length = 1/2 window_length and the window function is periodic (not symmetric) by default. Therefore, people usually use torch.stft"
      ],
      "metadata": {
        "id": "OrAviTQebW0Y"
      }
    },
    {
      "cell_type": "code",
      "source": [
        "spec = torchaudio.transforms.Spectrogram(\n",
        "    n_fft=n_fft,\n",
        "    center = False,\n",
        "    #win_length=win_length,\n",
        "    window_fn= torch.ones, #torch.hann_window\n",
        "    hop_length=hop_length\n",
        ")(wav[0])\n",
        "# griffin_lim = torchaudio.transforms.GriffinLim(\n",
        "#     n_fft=n_fft,\n",
        "#     #win_length=win_length,\n",
        "#     hop_length=hop_length,\n",
        "# )\n",
        "# waveform = griffin_lim(spec)  #stf.squeeze().abs()"
      ],
      "metadata": {
        "id": "vC50PB2dg73L"
      },
      "execution_count": null,
      "outputs": []
    },
    {
      "cell_type": "code",
      "source": [
        "torch.allclose(st.abs()**2,spec)"
      ],
      "metadata": {
        "colab": {
          "base_uri": "https://localhost:8080/"
        },
        "id": "-Kn3vrQdwSKE",
        "outputId": "85627764-b116-452b-99a0-6194a01f49dc"
      },
      "execution_count": null,
      "outputs": [
        {
          "output_type": "execute_result",
          "data": {
            "text/plain": [
              "True"
            ]
          },
          "metadata": {},
          "execution_count": 85
        }
      ]
    },
    {
      "cell_type": "markdown",
      "source": [
        "###Librosa Spectrogram"
      ],
      "metadata": {
        "id": "LwrbAIPoGFyE"
      }
    },
    {
      "cell_type": "code",
      "source": [
        "plt.figure(figsize=(30,10))\n",
        "librosa.display.specshow(librosa.amplitude_to_db(stf.abs().numpy()**2), y_axis='log', sr=sr, hop_length=hop_length, x_axis='time')\n",
        "plt.colorbar(format=\"%+2.f dB\")"
      ],
      "metadata": {
        "id": "KfjJIJWCGEOD"
      },
      "execution_count": null,
      "outputs": []
    },
    {
      "cell_type": "markdown",
      "source": [
        "###Inverse STFT"
      ],
      "metadata": {
        "id": "tBogW6YUc0BM"
      }
    },
    {
      "cell_type": "code",
      "source": [
        "recA = iMySTFT(wav, sr, n_fft, hop_length, w, 0)"
      ],
      "metadata": {
        "id": "WD596JdQ4Qth"
      },
      "execution_count": null,
      "outputs": []
    },
    {
      "cell_type": "code",
      "source": [
        "Audio(data=recA, rate=sr)"
      ],
      "metadata": {
        "id": "nmcOsQNp5O1k"
      },
      "execution_count": null,
      "outputs": []
    },
    {
      "cell_type": "code",
      "source": [
        "istf = torch.istft(stf,n_fft=n_fft, hop_length=hop_length, center=False)"
      ],
      "metadata": {
        "id": "iB8Q2oxL5gRJ"
      },
      "execution_count": null,
      "outputs": []
    },
    {
      "cell_type": "code",
      "source": [
        "Audio(data=istf, rate=sr)"
      ],
      "metadata": {
        "id": "2LLyL3wd6BEv"
      },
      "execution_count": null,
      "outputs": []
    },
    {
      "cell_type": "code",
      "source": [
        "torch.allclose(recA, istf)"
      ],
      "metadata": {
        "colab": {
          "base_uri": "https://localhost:8080/",
          "height": 173
        },
        "id": "qUt0-vuS6IKn",
        "outputId": "f903aadf-7931-4d71-dc91-83ea3bc30461"
      },
      "execution_count": null,
      "outputs": [
        {
          "output_type": "error",
          "ename": "RuntimeError",
          "evalue": "ignored",
          "traceback": [
            "\u001b[0;31m---------------------------------------------------------------------------\u001b[0m",
            "\u001b[0;31mRuntimeError\u001b[0m                              Traceback (most recent call last)",
            "\u001b[0;32m<ipython-input-93-d12fc90761d4>\u001b[0m in \u001b[0;36m<module>\u001b[0;34m\u001b[0m\n\u001b[0;32m----> 1\u001b[0;31m \u001b[0mtorch\u001b[0m\u001b[0;34m.\u001b[0m\u001b[0mallclose\u001b[0m\u001b[0;34m(\u001b[0m\u001b[0mrecA\u001b[0m\u001b[0;34m,\u001b[0m \u001b[0mistf\u001b[0m\u001b[0;34m)\u001b[0m\u001b[0;34m\u001b[0m\u001b[0;34m\u001b[0m\u001b[0m\n\u001b[0m",
            "\u001b[0;31mRuntimeError\u001b[0m: The size of tensor a (661248) must match the size of tensor b (662271) at non-singleton dimension 1"
          ]
        }
      ]
    },
    {
      "cell_type": "markdown",
      "source": [
        "###Mel Spectrogram"
      ],
      "metadata": {
        "id": "29-1K0SGmkrf"
      }
    },
    {
      "cell_type": "code",
      "execution_count": null,
      "metadata": {
        "id": "scCuCRHehcYu"
      },
      "outputs": [],
      "source": [
        "n_fft = 512 #1024\n",
        "win_length = None\n",
        "hop_length = 256 #512\n",
        "n_mels = 80\n",
        "\n",
        "mel_spectrogram = torchaudio.transforms.MelSpectrogram(\n",
        "    sample_rate=sr,\n",
        "    n_fft=n_fft,\n",
        "    win_length=win_length,\n",
        "    hop_length=hop_length,\n",
        "    center=True,\n",
        "    pad_mode=\"reflect\",\n",
        "    power=2.0,\n",
        "    norm='slaney',\n",
        "    onesided=True,\n",
        "    n_mels=n_mels,\n",
        "    mel_scale=\"htk\",\n",
        ")"
      ]
    },
    {
      "cell_type": "code",
      "source": [
        "melspec = mel_spectrogram(wav[0])\n",
        "#plot_spectrogram(melspec[0], title=\"MelSpectrogram - torchaudio\", ylabel='mel freq')"
      ],
      "metadata": {
        "id": "ucs-4zzab0sS"
      },
      "execution_count": null,
      "outputs": []
    },
    {
      "cell_type": "code",
      "source": [
        "plt.figure(figsize=(25,10))\n",
        "plt.imshow(librosa.power_to_db(melspec), origin='lower')"
      ],
      "metadata": {
        "id": "GIbmiaB6fKC-"
      },
      "execution_count": null,
      "outputs": []
    },
    {
      "cell_type": "markdown",
      "source": [
        "###Mel Filter Bank"
      ],
      "metadata": {
        "id": "GTG_a496OW-q"
      }
    },
    {
      "cell_type": "code",
      "source": [
        "plt.figure(figsize=(10,10))\n",
        "plt.imshow(mel_spectrogram.mel_scale.fb, origin='lower')"
      ],
      "metadata": {
        "id": "m4oqo2ZaR8K7"
      },
      "execution_count": null,
      "outputs": []
    },
    {
      "cell_type": "code",
      "source": [
        "mel_filters_librosa = librosa.filters.mel(\n",
        "    sr,\n",
        "    n_fft,\n",
        "    n_mels=n_mels,\n",
        "    fmin=0.,\n",
        "    fmax=sr/2.,\n",
        "    norm='slaney',\n",
        "    htk=True,\n",
        ").T"
      ],
      "metadata": {
        "id": "WF5f0tJKRs_D"
      },
      "execution_count": null,
      "outputs": []
    },
    {
      "cell_type": "code",
      "source": [
        "plt.imshow(mel_filters_librosa, origin='lower')"
      ],
      "metadata": {
        "id": "DLYDXoXHaRBl"
      },
      "execution_count": 40,
      "outputs": []
    },
    {
      "cell_type": "code",
      "source": [
        "torch.allclose(torch.Tensor(mel_filters_librosa), mel_spectrogram.mel_scale.fb)"
      ],
      "metadata": {
        "colab": {
          "base_uri": "https://localhost:8080/"
        },
        "id": "50WEJ26yajVk",
        "outputId": "6ecf14de-e6b3-4c2d-9e84-408f233b7b41"
      },
      "execution_count": null,
      "outputs": [
        {
          "output_type": "execute_result",
          "data": {
            "text/plain": [
              "True"
            ]
          },
          "metadata": {},
          "execution_count": 18
        }
      ]
    },
    {
      "cell_type": "code",
      "source": [
        "mel_spectrogram.mel_scale.fb.copy_(torch.tensor(mel_filters_librosa))"
      ],
      "metadata": {
        "id": "otwfDKKR4O8-",
        "colab": {
          "base_uri": "https://localhost:8080/"
        },
        "outputId": "9ef05370-b5ad-440f-b33e-79609af98a25"
      },
      "execution_count": null,
      "outputs": [
        {
          "output_type": "execute_result",
          "data": {
            "text/plain": [
              "tensor([[0.0000, 0.0000, 0.0000,  ..., 0.0000, 0.0000, 0.0000],\n",
              "        [0.0114, 0.0273, 0.0000,  ..., 0.0000, 0.0000, 0.0000],\n",
              "        [0.0000, 0.0000, 0.0247,  ..., 0.0000, 0.0000, 0.0000],\n",
              "        ...,\n",
              "        [0.0000, 0.0000, 0.0000,  ..., 0.0000, 0.0000, 0.0005],\n",
              "        [0.0000, 0.0000, 0.0000,  ..., 0.0000, 0.0000, 0.0003],\n",
              "        [0.0000, 0.0000, 0.0000,  ..., 0.0000, 0.0000, 0.0000]])"
            ]
          },
          "metadata": {},
          "execution_count": 17
        }
      ]
    },
    {
      "cell_type": "code",
      "source": [],
      "metadata": {
        "id": "ERPBcsqWa2nr"
      },
      "execution_count": null,
      "outputs": []
    }
  ],
  "metadata": {
    "colab": {
      "provenance": [],
      "collapsed_sections": []
    },
    "kernelspec": {
      "display_name": "Python 3",
      "name": "python3"
    },
    "language_info": {
      "name": "python"
    }
  },
  "nbformat": 4,
  "nbformat_minor": 0
}