{
  "nbformat": 4,
  "nbformat_minor": 0,
  "metadata": {
    "kernelspec": {
      "display_name": "Python 3",
      "language": "python",
      "name": "python3"
    },
    "language_info": {
      "codemirror_mode": {
        "name": "ipython",
        "version": 3
      },
      "file_extension": ".py",
      "mimetype": "text/x-python",
      "name": "python",
      "nbconvert_exporter": "python",
      "pygments_lexer": "ipython3",
      "version": "3.8.5"
    },
    "colab": {
      "name": "Tutorial3.ipynb",
      "provenance": [],
      "collapsed_sections": []
    },
    "accelerator": "GPU"
  },
  "cells": [
    {
      "cell_type": "markdown",
      "metadata": {
        "id": "NYtTmvsVEvoF"
      },
      "source": [
        "https://www.kaggle.com/alanchn31/free-spoken-digits"
      ]
    },
    {
      "cell_type": "code",
      "metadata": {
        "id": "Je_3D2Gceswi"
      },
      "source": [
        "#from google.colab import drive\n",
        "#drive.mount(\"/content/gdrive\")  "
      ],
      "execution_count": 1,
      "outputs": []
    },
    {
      "cell_type": "code",
      "metadata": {
        "id": "vO4v17-lk2uM"
      },
      "source": [
        "#!tar xvzf recordings.tar.gz"
      ],
      "execution_count": 2,
      "outputs": []
    },
    {
      "cell_type": "code",
      "metadata": {
        "id": "4DnGMMX0eMzh"
      },
      "source": [
        "#!pip install torchaudio"
      ],
      "execution_count": 3,
      "outputs": []
    },
    {
      "cell_type": "code",
      "metadata": {
        "id": "Oe3GFusdHALv"
      },
      "source": [
        "import torch\n",
        "import torchaudio\n",
        "import numpy as np"
      ],
      "execution_count": 3,
      "outputs": []
    },
    {
      "cell_type": "code",
      "metadata": {
        "id": "S_bnlQ6YHALz"
      },
      "source": [
        "from torch.utils.data import Dataset, DataLoader\n",
        "from torch import nn\n",
        "from torch import optim\n",
        "from itertools import islice\n",
        "from tqdm import tqdm"
      ],
      "execution_count": 8,
      "outputs": []
    },
    {
      "cell_type": "code",
      "metadata": {
        "id": "wstm86RUHAL0"
      },
      "source": [
        "import pathlib"
      ],
      "execution_count": 9,
      "outputs": []
    },
    {
      "cell_type": "code",
      "metadata": {
        "id": "6RJXwd5vHAL1"
      },
      "source": [
        "test_indexes = [] # np.zeros(2*600)\n",
        "for i in range(60):\n",
        "    #test_indexes[2*i:2*(i+1)] = np.random.choice(50, 2) + 50*i \n",
        "    test_indexes = test_indexes + list(np.random.choice(50, 2)+ 50*i)\n",
        "train_indexes = [i for i in range(2900)]\n",
        "train_indexes = list(set(train_indexes) - set(test_indexes))"
      ],
      "execution_count": 17,
      "outputs": []
    },
    {
      "cell_type": "code",
      "metadata": {
        "id": "R0Zz98E0HAL1"
      },
      "source": [
        "path_to_data = pathlib.Path('./recordings')\n",
        "paths = list(path_to_data.rglob('*.wav'))\n",
        "paths_train = [paths[i] for  i in train_indexes] \n",
        "paths_test = [paths[i] for  i in test_indexes]"
      ],
      "execution_count": 18,
      "outputs": []
    },
    {
      "cell_type": "code",
      "metadata": {
        "id": "O0JoFGszHAL2"
      },
      "source": [
        "class AudioMnist(Dataset):\n",
        "    def __init__(self, path_to_data):\n",
        "        #self.path_to_data = pathlib.Path(path_to_data)\n",
        "        #self.paths = list(self.path_to_data.rglob('*.wav'))\n",
        "        self.paths = path_to_data\n",
        "        self.featurizer = torchaudio.transforms.MelSpectrogram( \\\n",
        "            sample_rate=16000, n_fft=1024, win_length=1024,hop_length=256, n_mels=80)\n",
        "        \n",
        "    def __getitem__(self, index):\n",
        "        path_to_wav = self.paths[index].as_posix()\n",
        "        wav, _ = torchaudio.load(path_to_wav)\n",
        "        mel_spec = self.featurizer(wav).squeeze(dim=0).clamp(1e-5).log()\n",
        "        label = int(path_to_wav.split('/')[-1].split('_')[0])\n",
        "        return mel_spec, label\n",
        "        \n",
        "    def __len__(self):\n",
        "        return len(self.paths)"
      ],
      "execution_count": 19,
      "outputs": []
    },
    {
      "cell_type": "code",
      "metadata": {
        "id": "G0p8k0SMHAL2"
      },
      "source": [
        "dataset = AudioMnist(paths_train)\n",
        "dataset_test = AudioMnist(paths_test)"
      ],
      "execution_count": 20,
      "outputs": []
    },
    {
      "cell_type": "code",
      "metadata": {
        "id": "-cTqHaelHAL3",
        "colab": {
          "base_uri": "https://localhost:8080/"
        },
        "outputId": "574088da-7072-491f-f35f-c20e78aef3e9"
      },
      "source": [
        "dataset[5]"
      ],
      "execution_count": 21,
      "outputs": [
        {
          "output_type": "execute_result",
          "data": {
            "text/plain": [
              "(tensor([[-10.2543,  -9.1099, -10.1668,  ...,  -7.6816,  -8.2048,  -8.6610],\n",
              "         [ -9.3566,  -8.5928,  -9.0443,  ...,  -8.1125,  -9.2040,  -8.3888],\n",
              "         [ -8.7034,  -8.1926,  -9.4329,  ...,  -7.6201,  -8.3900,  -8.2539],\n",
              "         ...,\n",
              "         [ -4.3113,  -5.4017,  -8.2199,  ...,  -8.9894,  -8.5764,  -8.2613],\n",
              "         [ -5.0711,  -6.1382,  -8.4130,  ...,  -8.8574,  -8.6966,  -7.9494],\n",
              "         [ -6.5580,  -7.4778,  -8.5633,  ...,  -8.9127,  -8.8966,  -8.6079]]),\n",
              " 4)"
            ]
          },
          "metadata": {},
          "execution_count": 21
        }
      ]
    },
    {
      "cell_type": "code",
      "metadata": {
        "id": "6w8r2eQEHAL5"
      },
      "source": [
        "def collate_fn_padd(batch):\n",
        "    '''\n",
        "    Padds batch of variable length\n",
        "\n",
        "    note: it converts things ToTensor manually here since the ToTensor transform\n",
        "    assume it takes in images rather than arbitrary tensors.\n",
        "    '''\n",
        "    data = torch.nn.utils.rnn.pad_sequence([item[0].transpose(-1,-2) for item in batch], batch_first=True, padding_value=np.log(1e-5))\n",
        "    target = torch.LongTensor([item[1] for item in batch])\n",
        "    \n",
        "    return data.transpose(-1,-2), target"
      ],
      "execution_count": 22,
      "outputs": []
    },
    {
      "cell_type": "code",
      "metadata": {
        "id": "XZGmjdkCHAL5"
      },
      "source": [
        "dataloader = DataLoader(dataset, collate_fn=collate_fn_padd, shuffle=True, batch_size=32)"
      ],
      "execution_count": 23,
      "outputs": []
    },
    {
      "cell_type": "code",
      "metadata": {
        "id": "0EyUHZttHAL6",
        "outputId": "da1f0a55-3959-4ceb-f02f-3507da206aca"
      },
      "source": [
        "for i, batch in enumerate(dataloader):\n",
        "    mel_spec, label = batch\n",
        "    print(mel_spec.shape)\n",
        "    if i == 2:\n",
        "        break"
      ],
      "execution_count": null,
      "outputs": [
        {
          "name": "stdout",
          "output_type": "stream",
          "text": [
            "torch.Size([32, 80, 56])\n",
            "torch.Size([32, 80, 61])\n",
            "torch.Size([32, 80, 52])\n"
          ]
        }
      ]
    },
    {
      "cell_type": "code",
      "metadata": {
        "id": "EMCtKogGHAL7"
      },
      "source": [
        "class Model(nn.Module):\n",
        "    def __init__(self):\n",
        "        super().__init__()\n",
        "        self.rnn = nn.LSTM(input_size=80, hidden_size=256, batch_first=True)\n",
        "        self.clf = nn.Linear(256, 10)\n",
        "        self.s = nn.Softmax(dim=1)\n",
        "    def forward(self, input):\n",
        "        output, _ = self.rnn(input.transpose(-1,-2))\n",
        "        output = self.clf(output[:,-1])\n",
        "        output = self.s(output)\n",
        "        return output"
      ],
      "execution_count": 24,
      "outputs": []
    },
    {
      "cell_type": "code",
      "metadata": {
        "id": "gS4VVgSRnOtz"
      },
      "source": [
        "device = torch.device(\"cuda\" if torch.cuda.is_available() else \"cpu\")"
      ],
      "execution_count": 25,
      "outputs": []
    },
    {
      "cell_type": "code",
      "metadata": {
        "id": "YirVhaKqHAL7"
      },
      "source": [
        "model = Model().to(device)"
      ],
      "execution_count": 26,
      "outputs": []
    },
    {
      "cell_type": "code",
      "metadata": {
        "id": "QTui86_xHAL8"
      },
      "source": [
        "optimizer = optim.Adam(model.parameters(), lr=1e-3)\n",
        "criterion = nn.CrossEntropyLoss()"
      ],
      "execution_count": 27,
      "outputs": []
    },
    {
      "cell_type": "code",
      "metadata": {
        "id": "DcucaKsQHAL8",
        "colab": {
          "base_uri": "https://localhost:8080/"
        },
        "outputId": "9f0db071-fc8b-4520-f020-2442f88da3f7"
      },
      "source": [
        "for epoc in range(10):\n",
        "    for i, batch in tqdm(enumerate(dataloader)):\n",
        "        mels, labels = batch\n",
        "        logits = model(mels.to(device))\n",
        "        loss = criterion(logits,labels.to(device))\n",
        "        optimizer.zero_grad()\n",
        "        loss.backward()\n",
        "        optimizer.step()\n",
        "    \n",
        "    #if i%50 ==0:\n",
        "    print(loss.item())"
      ],
      "execution_count": 29,
      "outputs": [
        {
          "output_type": "stream",
          "name": "stderr",
          "text": [
            "88it [00:01, 63.60it/s]\n"
          ]
        },
        {
          "output_type": "stream",
          "name": "stdout",
          "text": [
            "2.1963295936584473\n"
          ]
        },
        {
          "output_type": "stream",
          "name": "stderr",
          "text": [
            "88it [00:01, 61.23it/s]\n"
          ]
        },
        {
          "output_type": "stream",
          "name": "stdout",
          "text": [
            "1.8848272562026978\n"
          ]
        },
        {
          "output_type": "stream",
          "name": "stderr",
          "text": [
            "88it [00:01, 63.72it/s]\n"
          ]
        },
        {
          "output_type": "stream",
          "name": "stdout",
          "text": [
            "1.5498021841049194\n"
          ]
        },
        {
          "output_type": "stream",
          "name": "stderr",
          "text": [
            "88it [00:01, 66.42it/s]\n"
          ]
        },
        {
          "output_type": "stream",
          "name": "stdout",
          "text": [
            "1.52317476272583\n"
          ]
        },
        {
          "output_type": "stream",
          "name": "stderr",
          "text": [
            "88it [00:01, 64.07it/s]\n"
          ]
        },
        {
          "output_type": "stream",
          "name": "stdout",
          "text": [
            "1.4739850759506226\n"
          ]
        },
        {
          "output_type": "stream",
          "name": "stderr",
          "text": [
            "88it [00:01, 65.82it/s]\n"
          ]
        },
        {
          "output_type": "stream",
          "name": "stdout",
          "text": [
            "1.4625533819198608\n"
          ]
        },
        {
          "output_type": "stream",
          "name": "stderr",
          "text": [
            "88it [00:01, 66.24it/s]\n"
          ]
        },
        {
          "output_type": "stream",
          "name": "stdout",
          "text": [
            "1.462689757347107\n"
          ]
        },
        {
          "output_type": "stream",
          "name": "stderr",
          "text": [
            "88it [00:01, 65.09it/s]\n"
          ]
        },
        {
          "output_type": "stream",
          "name": "stdout",
          "text": [
            "1.4631344079971313\n"
          ]
        },
        {
          "output_type": "stream",
          "name": "stderr",
          "text": [
            "88it [00:01, 63.68it/s]\n"
          ]
        },
        {
          "output_type": "stream",
          "name": "stdout",
          "text": [
            "1.4732743501663208\n"
          ]
        },
        {
          "output_type": "stream",
          "name": "stderr",
          "text": [
            "88it [00:01, 62.54it/s]"
          ]
        },
        {
          "output_type": "stream",
          "name": "stdout",
          "text": [
            "1.46268892288208\n"
          ]
        },
        {
          "output_type": "stream",
          "name": "stderr",
          "text": [
            "\n"
          ]
        }
      ]
    },
    {
      "cell_type": "code",
      "metadata": {
        "id": "QkHe2yJAHAL9"
      },
      "source": [
        "predict = []\n",
        "target = []\n",
        "for i in range(len(dataset_test)):\n",
        "    wav = dataset_test[i][0].unsqueeze(dim = 0).to(device)\n",
        "    predict.append(int(model(wav).to('cpu').detach().argmax().numpy()))\n",
        "    target.append(dataset_test[i][1])"
      ],
      "execution_count": 32,
      "outputs": []
    },
    {
      "cell_type": "code",
      "metadata": {
        "id": "ZVShhgknHAL-",
        "outputId": "519e1e26-2a09-45ce-afac-2da39c0295bc"
      },
      "source": [
        "#model(wav).detach().argmax().numpy()"
      ],
      "execution_count": null,
      "outputs": [
        {
          "data": {
            "text/plain": [
              "array(6, dtype=int64)"
            ]
          },
          "execution_count": 211,
          "metadata": {},
          "output_type": "execute_result"
        }
      ]
    },
    {
      "cell_type": "code",
      "metadata": {
        "id": "nzYjpv3tHAL_",
        "colab": {
          "base_uri": "https://localhost:8080/"
        },
        "outputId": "c53fe4f5-a283-4fa1-f7cc-b56a84ed8360"
      },
      "source": [
        "from sklearn.metrics import accuracy_score\n",
        "accuracy_score(predict, target)"
      ],
      "execution_count": 33,
      "outputs": [
        {
          "output_type": "execute_result",
          "data": {
            "text/plain": [
              "0.9833333333333333"
            ]
          },
          "metadata": {},
          "execution_count": 33
        }
      ]
    },
    {
      "cell_type": "code",
      "metadata": {
        "id": "7fdJt3Asp17B"
      },
      "source": [
        "torch.save(model.state_dict(), 'weights.pth')"
      ],
      "execution_count": 36,
      "outputs": []
    },
    {
      "cell_type": "code",
      "metadata": {
        "id": "Ci6ZtnxGp2Li"
      },
      "source": [
        ""
      ],
      "execution_count": null,
      "outputs": []
    },
    {
      "cell_type": "code",
      "metadata": {
        "id": "dfn61AZKp2Wm"
      },
      "source": [
        ""
      ],
      "execution_count": null,
      "outputs": []
    },
    {
      "cell_type": "code",
      "metadata": {
        "id": "_VJcldGQHAMA"
      },
      "source": [
        "from ipywebrtc import VideoStream, AudioStream, AudioRecorder, CameraStream\n",
        "from IPython.display import Audio"
      ],
      "execution_count": null,
      "outputs": []
    },
    {
      "cell_type": "code",
      "metadata": {
        "id": "ZzZP-OEcHAMA",
        "colab": {
          "referenced_widgets": [
            "fb5178f967ae4f309709622402c69cd1"
          ]
        },
        "outputId": "ab894704-cce1-4120-ce5f-c63cd24a572c"
      },
      "source": [
        "camera = CameraStream(constraints={'audio': True,'video':False})\n",
        "recorder = AudioRecorder(stream=camera)\n",
        "recorder"
      ],
      "execution_count": null,
      "outputs": [
        {
          "data": {
            "application/vnd.jupyter.widget-view+json": {
              "model_id": "fb5178f967ae4f309709622402c69cd1",
              "version_major": 2,
              "version_minor": 0
            },
            "text/plain": [
              "AudioRecorder(audio=Audio(value=b'', format='webm'), stream=CameraStream(constraints={'audio': True, 'video': …"
            ]
          },
          "metadata": {},
          "output_type": "display_data"
        }
      ]
    },
    {
      "cell_type": "code",
      "metadata": {
        "id": "80TemD3_HAMB"
      },
      "source": [
        "with open('recording.webm', 'wb') as f:\n",
        "    f.write(recorder.audio.value)\n",
        "!C:\\ffmpeg\\bin\\ffmpeg -i recording.webm -ac 1 -f wav file.wav -y -hide_banner -loglevel panic\n",
        "sig, sr = torchaudio.load(\"file.wav\")"
      ],
      "execution_count": null,
      "outputs": []
    },
    {
      "cell_type": "code",
      "metadata": {
        "id": "rLzsKfhzHAMC",
        "outputId": "efd2b506-efac-4116-b5bf-2721cdc6c0b7"
      },
      "source": [
        "sr"
      ],
      "execution_count": null,
      "outputs": [
        {
          "data": {
            "text/plain": [
              "48000"
            ]
          },
          "execution_count": 313,
          "metadata": {},
          "output_type": "execute_result"
        }
      ]
    },
    {
      "cell_type": "code",
      "metadata": {
        "id": "cwclrX3-HAMD"
      },
      "source": [
        "wav = torchaudio.transforms.Resample(sr, 16000)(sig)"
      ],
      "execution_count": null,
      "outputs": []
    },
    {
      "cell_type": "code",
      "metadata": {
        "id": "h8rcqsu5HAMD"
      },
      "source": [
        "torchaudio.save('file1.wav', wav, 16000)"
      ],
      "execution_count": null,
      "outputs": []
    },
    {
      "cell_type": "code",
      "metadata": {
        "id": "w0UztrcxHAMD",
        "outputId": "336a2285-3672-4829-f4be-a2813cf3caec"
      },
      "source": [
        "sig, sr = torchaudio.load(\"file1.wav\")\n",
        "Audio(data=sig, rate=sr)"
      ],
      "execution_count": null,
      "outputs": [
        {
          "data": {
            "text/html": [
              "\n",
              "                <audio  controls=\"controls\" >\n",
              "                    <source src=\"data:audio/wav;base64,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\" type=\"audio/wav\" />\n",
              "                    Your browser does not support the audio element.\n",
              "                </audio>\n",
              "              "
            ],
            "text/plain": [
              "<IPython.lib.display.Audio object>"
            ]
          },
          "execution_count": 316,
          "metadata": {},
          "output_type": "execute_result"
        }
      ]
    },
    {
      "cell_type": "code",
      "metadata": {
        "id": "ENu_ieftHAME"
      },
      "source": [
        "wav = torchaudio.transforms.MelSpectrogram(sample_rate=16000, n_fft=1024, win_length=1024,hop_length=256, n_mels=80)(sig)"
      ],
      "execution_count": null,
      "outputs": []
    },
    {
      "cell_type": "code",
      "metadata": {
        "id": "1q_iTdLsHAMF",
        "outputId": "58037e9e-148b-486a-e4fc-d3c5d477c023"
      },
      "source": [
        "int(model(wav).detach().argmax().numpy())"
      ],
      "execution_count": null,
      "outputs": [
        {
          "data": {
            "text/plain": [
              "9"
            ]
          },
          "execution_count": 318,
          "metadata": {},
          "output_type": "execute_result"
        }
      ]
    },
    {
      "cell_type": "code",
      "metadata": {
        "id": "YNv6HNtmHAMF",
        "outputId": "ea2c3a2e-04c0-4c3c-a125-b5fdc6af9a01"
      },
      "source": [
        "wav.shape"
      ],
      "execution_count": null,
      "outputs": [
        {
          "data": {
            "text/plain": [
              "torch.Size([1, 80, 98])"
            ]
          },
          "execution_count": 319,
          "metadata": {},
          "output_type": "execute_result"
        }
      ]
    },
    {
      "cell_type": "code",
      "metadata": {
        "id": "sfxsxkfMHAMG"
      },
      "source": [
        ""
      ],
      "execution_count": null,
      "outputs": []
    }
  ]
}